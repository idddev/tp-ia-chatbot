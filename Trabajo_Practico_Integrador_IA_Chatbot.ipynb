{
  "cells": [
    {
      "cell_type": "markdown",
      "metadata": {
        "id": "HjPCqMRdU7DL"
      },
      "source": [
        "Instalar las librerias necesarias para este proyecto:\n",
        "\n",
        "*   FuzzyWuzzy: Busca mediante una expresion regular \"borrosa\" un string en un array utilizando la medida de Levenshtein\n",
        "*   python-Levenshtein: Dependencia de FuzzyWuzzy\n",
        "\n"
      ]
    },
    {
      "cell_type": "code",
      "execution_count": null,
      "metadata": {
        "colab": {
          "base_uri": "https://localhost:8080/"
        },
        "id": "JkknNw_QGE_k",
        "outputId": "990b6ef2-78b0-4abe-eaa9-ee7a87fef6c3"
      },
      "outputs": [
        {
          "name": "stdout",
          "output_type": "stream",
          "text": [
            "Looking in indexes: https://pypi.org/simple, https://us-python.pkg.dev/colab-wheels/public/simple/\n",
            "Requirement already satisfied: fuzzywuzzy in /usr/local/lib/python3.10/dist-packages (0.18.0)\n",
            "Looking in indexes: https://pypi.org/simple, https://us-python.pkg.dev/colab-wheels/public/simple/\n",
            "Requirement already satisfied: python-Levenshtein in /usr/local/lib/python3.10/dist-packages (0.21.0)\n",
            "Requirement already satisfied: Levenshtein==0.21.0 in /usr/local/lib/python3.10/dist-packages (from python-Levenshtein) (0.21.0)\n",
            "Requirement already satisfied: rapidfuzz<4.0.0,>=2.3.0 in /usr/local/lib/python3.10/dist-packages (from Levenshtein==0.21.0->python-Levenshtein) (3.1.0)\n"
          ]
        }
      ],
      "source": [
        "%pip install fuzzywuzzy\n",
        "%pip install python-Levenshtein"
      ]
    },
    {
      "cell_type": "markdown",
      "metadata": {
        "id": "YKG7IvjMVUg2"
      },
      "source": [
        "Importar las librerias"
      ]
    },
    {
      "cell_type": "code",
      "execution_count": null,
      "metadata": {
        "id": "3oat9rTYVZOm"
      },
      "outputs": [],
      "source": [
        "import json\n",
        "import re\n",
        "from fuzzywuzzy import process"
      ]
    },
    {
      "cell_type": "markdown",
      "metadata": {
        "id": "GR-gOuDYVaaQ"
      },
      "source": [
        "Cargamos el array de frases **frases.json**"
      ]
    },
    {
      "cell_type": "code",
      "execution_count": null,
      "metadata": {
        "id": "wTB2dBmUVd4H"
      },
      "outputs": [],
      "source": [
        "with open('sample_data/frases.json', 'r') as f:\n",
        "    frases = json.load(f)\n",
        "\n",
        "# Crear una lista de todas las preguntas del array JSON\n",
        "preguntas_chatbot = [item['pregunta'].lower() for item in frases]"
      ]
    },
    {
      "cell_type": "markdown",
      "metadata": {
        "id": "DlYvDQgLVsh6"
      },
      "source": [
        "Definimos la funcion **buscar_pregunta** que recibe la pregunta del usuario como string, y utilizara FuzzyWuzzy para buscar en el array frases el item cuyo pregunta sea \"similar\" al input del usuario"
      ]
    },
    {
      "cell_type": "code",
      "execution_count": null,
      "metadata": {
        "id": "Lb4dWK6LV3AO"
      },
      "outputs": [],
      "source": [
        "def buscar_pregunta(pregunta_usuario):\n",
        "    # Normalizar la pregunta del usuario para ignorar mayúsculas y minúsculas\n",
        "    pregunta_usuario = pregunta_usuario.lower()\n",
        "\n",
        "    # Utilizar fuzzywuzzy para encontrar la pregunta más parecida\n",
        "    pregunta_mas_parecida = process.extractOne(pregunta_usuario, preguntas_chatbot)\n",
        "\n",
        "    # Devolver la respuesta a la pregunta más parecida\n",
        "    for item in frases:\n",
        "        if item['pregunta'].lower() == pregunta_mas_parecida[0]:\n",
        "            return item['respuesta']"
      ]
    },
    {
      "cell_type": "markdown",
      "metadata": {
        "id": "u9XVxFAqWTnm"
      },
      "source": [
        "Definimos el input y ejecutamos la funcion buscar_pregunta"
      ]
    },
    {
      "cell_type": "code",
      "execution_count": null,
      "metadata": {
        "colab": {
          "base_uri": "https://localhost:8080/"
        },
        "id": "KPj22ZrlWWyx",
        "outputId": "6e912d7f-65fc-48e1-ffb5-2f99e51bad80"
      },
      "outputs": [
        {
          "name": "stdout",
          "output_type": "stream",
          "text": [
            "Por favor, hazme una pregunta: mi tarjeta se perdio\n",
            "En caso de pérdida o robo, comunícate con nosotros de inmediato para bloquear tu tarjeta y emitir una nueva.\n"
          ]
        }
      ],
      "source": [
        "pregunta_usuario = input(\"Por favor, hazme una pregunta: \")\n",
        "print(buscar_pregunta(pregunta_usuario))"
      ]
    }
  ],
  "metadata": {
    "colab": {
      "provenance": []
    },
    "kernelspec": {
      "display_name": "Python 3",
      "name": "python3"
    },
    "language_info": {
      "name": "python"
    }
  },
  "nbformat": 4,
  "nbformat_minor": 0
}
